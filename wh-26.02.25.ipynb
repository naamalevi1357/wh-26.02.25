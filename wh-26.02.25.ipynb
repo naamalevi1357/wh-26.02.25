{
 "cells": [
  {
   "cell_type": "code",
   "execution_count": 5,
   "id": "c2d5f8fc-1c76-4200-9f76-1de49d3f5675",
   "metadata": {},
   "outputs": [
    {
     "name": "stdout",
     "output_type": "stream",
     "text": [
      "Requirement already satisfied: numpy in c:\\users\\naama\\anaconda3\\lib\\site-packages (1.26.4)\n"
     ]
    }
   ],
   "source": [
    "!pip install numpy\n"
   ]
  },
  {
   "cell_type": "code",
   "execution_count": 17,
   "id": "682ce2a4-a1f6-4b37-9adc-63e07f56f5bf",
   "metadata": {},
   "outputs": [
    {
     "data": {
      "text/plain": [
       "array([ 0,  1,  2,  3,  4,  5,  6,  7,  8,  9, 10, 11, 12, 13, 14, 15])"
      ]
     },
     "metadata": {},
     "output_type": "display_data"
    },
    {
     "data": {
      "text/plain": [
       "array([[ 0,  1,  2,  3],\n",
       "       [ 4,  5,  6,  7],\n",
       "       [ 8,  9, 10, 11],\n",
       "       [12, 13, 14, 15]])"
      ]
     },
     "metadata": {},
     "output_type": "display_data"
    }
   ],
   "source": [
    "# 1\n",
    "import numpy as np\n",
    "\n",
    "a1=np.arange(0,16)\n",
    "display(a1)\n",
    "display(np.reshape(a1,(4,4)))"
   ]
  },
  {
   "cell_type": "code",
   "execution_count": 25,
   "id": "ce3976af-f878-460a-8d85-27ff63d8c950",
   "metadata": {},
   "outputs": [
    {
     "data": {
      "text/plain": [
       "array([10, 15, 20, 25, 30, 35, 40, 45])"
      ]
     },
     "metadata": {},
     "output_type": "display_data"
    },
    {
     "data": {
      "text/plain": [
       "array([[10, 15, 20, 25],\n",
       "       [30, 35, 40, 45]])"
      ]
     },
     "metadata": {},
     "output_type": "display_data"
    }
   ],
   "source": [
    "# 2\n",
    "a2=np.arange(10,50,5)\n",
    "display(a2)\n",
    "display(np.reshape(a2,(2,4)))"
   ]
  },
  {
   "cell_type": "code",
   "execution_count": 29,
   "id": "fd0207fa-6f55-4e6e-b387-95996e088eb5",
   "metadata": {},
   "outputs": [
    {
     "data": {
      "text/plain": [
       "array([[75, 73, 95],\n",
       "       [50, 20, 92],\n",
       "       [46, 66, 62]], dtype=int32)"
      ]
     },
     "metadata": {},
     "output_type": "display_data"
    },
    {
     "data": {
      "text/plain": [
       "'max'"
      ]
     },
     "metadata": {},
     "output_type": "display_data"
    },
    {
     "data": {
      "text/plain": [
       "np.int32(95)"
      ]
     },
     "metadata": {},
     "output_type": "display_data"
    },
    {
     "data": {
      "text/plain": [
       "'min'"
      ]
     },
     "metadata": {},
     "output_type": "display_data"
    },
    {
     "data": {
      "text/plain": [
       "np.int32(20)"
      ]
     },
     "metadata": {},
     "output_type": "display_data"
    }
   ],
   "source": [
    "# 3\n",
    "a3 = np.random.randint(1, 100, (3, 3))\n",
    "display(a3)\n",
    "display(\"max\", a3.max())\n",
    "display(\"min\", a3.min())"
   ]
  },
  {
   "cell_type": "code",
   "execution_count": 37,
   "id": "ef027d6f-2df5-4178-b944-d367b3766563",
   "metadata": {},
   "outputs": [
    {
     "data": {
      "text/plain": [
       "array([ 0,  2,  4,  6,  8, 11, 13, 15, 17, 20])"
      ]
     },
     "metadata": {},
     "output_type": "display_data"
    },
    {
     "data": {
      "text/plain": [
       "array([0, 2, 4, 6, 8])"
      ]
     },
     "metadata": {},
     "output_type": "display_data"
    },
    {
     "data": {
      "text/plain": [
       "array([ 0,  4,  8, 13, 17])"
      ]
     },
     "metadata": {},
     "output_type": "display_data"
    },
    {
     "data": {
      "text/plain": [
       "array([20, 17, 15, 13, 11,  8,  6,  4,  2,  0])"
      ]
     },
     "metadata": {},
     "output_type": "display_data"
    }
   ],
   "source": [
    "a4=np.linspace(0, 20, 10, dtype=int)\n",
    "display(a4)\n",
    "display(a4[:5])\n",
    "display(a4[::2])\n",
    "display(a4[::-1])"
   ]
  },
  {
   "cell_type": "code",
   "execution_count": 45,
   "id": "e203cf47-9c77-47b9-8992-d5d1da185cc5",
   "metadata": {},
   "outputs": [
    {
     "data": {
      "text/plain": [
       "array([[21, 24, 21, 13,  9],\n",
       "       [ 4,  3, 22, 21, 18],\n",
       "       [19,  3,  7, 32, 19],\n",
       "       [21, 20, 28, 25, 45]], dtype=int32)"
      ]
     },
     "metadata": {},
     "output_type": "display_data"
    },
    {
     "data": {
      "text/plain": [
       "np.int32(21)"
      ]
     },
     "metadata": {},
     "output_type": "display_data"
    }
   ],
   "source": [
    "# 5\n",
    "a5 = np.random.randint(1, 50, (4, 5))\n",
    "display(a5)\n",
    "display(a5[1][3])"
   ]
  },
  {
   "cell_type": "code",
   "execution_count": 57,
   "id": "683fc6d0-a532-484c-9f4c-1fdebc0c664b",
   "metadata": {},
   "outputs": [
    {
     "data": {
      "text/plain": [
       "array([  0,   7,  14,  21,  28,  35,  42,  50,  57,  64,  71,  78,  85,\n",
       "        92, 100])"
      ]
     },
     "metadata": {},
     "output_type": "display_data"
    },
    {
     "data": {
      "text/plain": [
       "np.int64(14)"
      ]
     },
     "metadata": {},
     "output_type": "display_data"
    },
    {
     "data": {
      "text/plain": [
       "np.int64(0)"
      ]
     },
     "metadata": {},
     "output_type": "display_data"
    },
    {
     "data": {
      "text/plain": [
       "array([0, 2, 4, 1, 3, 0, 2, 0, 2, 4, 1, 3, 0, 2, 0])"
      ]
     },
     "metadata": {},
     "output_type": "display_data"
    },
    {
     "data": {
      "text/plain": [
       "array([  0,   7,  14,  21,  28,  35,  42,  50,  57,  64,  71,  78,  85,\n",
       "        92, 100])"
      ]
     },
     "metadata": {},
     "output_type": "display_data"
    }
   ],
   "source": [
    "# 6\n",
    "a6=np.linspace(0, 100, 15, dtype=int)\n",
    "display(a6)\n",
    "display(a6.argmax())\n",
    "display(a6.argmin())\n",
    "\n",
    "copy_a6 = a6.copy()\n",
    "copy_a6_1=copy_a6 % 5\n",
    "display(copy_a6_1)\n",
    "display((copy_a6[(copy_a6 < 50) | (copy_a6>10)]))"
   ]
  }
 ],
 "metadata": {
  "kernelspec": {
   "display_name": "Python 3 (ipykernel)",
   "language": "python",
   "name": "python3"
  },
  "language_info": {
   "codemirror_mode": {
    "name": "ipython",
    "version": 3
   },
   "file_extension": ".py",
   "mimetype": "text/x-python",
   "name": "python",
   "nbconvert_exporter": "python",
   "pygments_lexer": "ipython3",
   "version": "3.13.0"
  }
 },
 "nbformat": 4,
 "nbformat_minor": 5
}
